{
 "cells": [
  {
   "cell_type": "code",
   "execution_count": 27,
   "metadata": {
    "scrolled": true
   },
   "outputs": [],
   "source": [
    "import mysql.connector\n",
    "from mysql.connector import Error\n",
    "import pandas as pd"
   ]
  },
  {
   "cell_type": "code",
   "execution_count": 20,
   "metadata": {},
   "outputs": [
    {
     "name": "stdout",
     "output_type": "stream",
     "text": [
      "mysql database connected\n"
     ]
    }
   ],
   "source": [
    "def create_server_connection(host_name, user_name, user_password):\n",
    "    connection = None\n",
    "    try:\n",
    "        connection = mysql.connector.connect(\n",
    "        host = host_name,\n",
    "        user = user_name,\n",
    "        passwd = user_password\n",
    "        )\n",
    "        print('mysql database connected')\n",
    "    except Error as err:\n",
    "        print(f\"Error:'{err}'\")\n",
    "    return connection\n",
    "\n",
    "#put our msql terminal password\n",
    "\n",
    "pw = \"breitling\"\n",
    "\n",
    "#database name\n",
    "db = \"mysql_python\"\n",
    "connection = create_server_connection(\"localhost\",\"root\",pw)"
   ]
  },
  {
   "cell_type": "code",
   "execution_count": 2,
   "metadata": {},
   "outputs": [
    {
     "name": "stdout",
     "output_type": "stream",
     "text": [
      "Found existing installation: mysql-connector-python 8.0.33\n",
      "Uninstalling mysql-connector-python-8.0.33:\n",
      "  Successfully uninstalled mysql-connector-python-8.0.33\n"
     ]
    }
   ],
   "source": [
    "!python -m pip uninstall mysql-connector-python --yes"
   ]
  },
  {
   "cell_type": "code",
   "execution_count": 4,
   "metadata": {},
   "outputs": [
    {
     "name": "stdout",
     "output_type": "stream",
     "text": [
      "WARNING: pip is being invoked by an old script wrapper. This will fail in a future version of pip.\n",
      "Please see https://github.com/pypa/pip/issues/5599 for advice on fixing the underlying issue.\n",
      "To avoid this problem you can invoke Python with '-m pip' instead of running pip directly.\n",
      "Collecting mysql-connector-python\n",
      "  Using cached mysql_connector_python-8.0.33-cp37-cp37m-manylinux1_x86_64.whl (27.4 MB)\n",
      "Requirement already satisfied: protobuf<=3.20.3,>=3.11.0 in /home/vincey/snap/jupyter/common/lib/python3.7/site-packages (from mysql-connector-python) (3.20.3)\n",
      "Installing collected packages: mysql-connector-python\n",
      "Successfully installed mysql-connector-python-8.0.33\n"
     ]
    }
   ],
   "source": [
    "!pip install mysql-connector-python"
   ]
  },
  {
   "cell_type": "code",
   "execution_count": 5,
   "metadata": {},
   "outputs": [],
   "source": [
    "# import os\n",
    "# import mysql.connector\n",
    "# import pandas as pd\n",
    "# import numpy as np\n",
    "# import matplotlib.pyplot as plt\n",
    "# import seaborn as sns\n",
    "# %matplotlib inline"
   ]
  },
  {
   "cell_type": "code",
   "execution_count": 6,
   "metadata": {},
   "outputs": [],
   "source": [
    "# user_name = os.environ.get('DB_USER')\n",
    "# password = os.environ.get('DB_PASS')"
   ]
  },
  {
   "cell_type": "code",
   "execution_count": 7,
   "metadata": {},
   "outputs": [],
   "source": [
    "# connection = mysql.connector.connect(host='localhost',\n",
    "#                                     user = 'root',\n",
    "#                                     passwd = 'breitling',\n",
    "#                                     db = 'vincey')"
   ]
  },
  {
   "cell_type": "code",
   "execution_count": 35,
   "metadata": {},
   "outputs": [
    {
     "data": {
      "text/plain": [
       "<mysql.connector.connection_cext.CMySQLConnection at 0x7f62c3a20be0>"
      ]
     },
     "execution_count": 35,
     "metadata": {},
     "output_type": "execute_result"
    }
   ],
   "source": [
    "# connection"
   ]
  },
  {
   "cell_type": "code",
   "execution_count": 12,
   "metadata": {},
   "outputs": [],
   "source": [
    "# vincey_tables = pd.read_sql_query('SHOW TABLES FROM vincey',connection)"
   ]
  },
  {
   "cell_type": "code",
   "execution_count": 13,
   "metadata": {},
   "outputs": [
    {
     "data": {
      "text/html": [
       "<div>\n",
       "<style scoped>\n",
       "    .dataframe tbody tr th:only-of-type {\n",
       "        vertical-align: middle;\n",
       "    }\n",
       "\n",
       "    .dataframe tbody tr th {\n",
       "        vertical-align: top;\n",
       "    }\n",
       "\n",
       "    .dataframe thead th {\n",
       "        text-align: right;\n",
       "    }\n",
       "</style>\n",
       "<table border=\"1\" class=\"dataframe\">\n",
       "  <thead>\n",
       "    <tr style=\"text-align: right;\">\n",
       "      <th></th>\n",
       "      <th>Tables_in_vincey</th>\n",
       "    </tr>\n",
       "  </thead>\n",
       "  <tbody>\n",
       "    <tr>\n",
       "      <th>0</th>\n",
       "      <td>cust_details</td>\n",
       "    </tr>\n",
       "    <tr>\n",
       "      <th>1</th>\n",
       "      <td>customers</td>\n",
       "    </tr>\n",
       "    <tr>\n",
       "      <th>2</th>\n",
       "      <td>employees</td>\n",
       "    </tr>\n",
       "    <tr>\n",
       "      <th>3</th>\n",
       "      <td>orderdetails</td>\n",
       "    </tr>\n",
       "    <tr>\n",
       "      <th>4</th>\n",
       "      <td>orders</td>\n",
       "    </tr>\n",
       "    <tr>\n",
       "      <th>5</th>\n",
       "      <td>product_description</td>\n",
       "    </tr>\n",
       "    <tr>\n",
       "      <th>6</th>\n",
       "      <td>productdetails</td>\n",
       "    </tr>\n",
       "    <tr>\n",
       "      <th>7</th>\n",
       "      <td>products</td>\n",
       "    </tr>\n",
       "  </tbody>\n",
       "</table>\n",
       "</div>"
      ],
      "text/plain": [
       "      Tables_in_vincey\n",
       "0         cust_details\n",
       "1            customers\n",
       "2            employees\n",
       "3         orderdetails\n",
       "4               orders\n",
       "5  product_description\n",
       "6       productdetails\n",
       "7             products"
      ]
     },
     "execution_count": 13,
     "metadata": {},
     "output_type": "execute_result"
    }
   ],
   "source": [
    "vincey_tables"
   ]
  },
  {
   "cell_type": "code",
   "execution_count": 16,
   "metadata": {},
   "outputs": [],
   "source": [
    "# tables = vincey_tables['Tables_in_vincey']"
   ]
  },
  {
   "cell_type": "code",
   "execution_count": 18,
   "metadata": {
    "scrolled": true
   },
   "outputs": [
    {
     "name": "stdout",
     "output_type": "stream",
     "text": [
      "cust_details\n",
      "          Field            Type Null Key Default Extra\n",
      "0  customerName  b'varchar(35)'  YES        None      \n",
      "1         phone          b'int'  YES        None      \n",
      "2          city  b'varchar(20)'  YES        None       \n",
      "\n",
      "customers\n",
      "                   Field            Type Null Key Default Extra\n",
      "0         customerNumber          b'int'  YES        None      \n",
      "1           customerName  b'varchar(35)'  YES        None      \n",
      "2                  phone          b'int'  YES        None      \n",
      "3                address  b'varchar(70)'  YES        None      \n",
      "4                   city  b'varchar(20)'  YES        None      \n",
      "5             postalCode          b'int'  YES        None      \n",
      "6                country  b'varchar(15)'  YES        None      \n",
      "7  salesRepEmloyeeNumber          b'int'  YES        None      \n",
      "8            creditLimit        b'float'  YES        None       \n",
      "\n",
      "employees\n",
      "            Field             Type Null Key Default Extra\n",
      "0  employeeNumber           b'int'  YES        None      \n",
      "1    employeeName   b'varchar(35)'  YES        None      \n",
      "2           email  b'varchar(100)'  YES        None      \n",
      "3      officeCode           b'int'  YES        None      \n",
      "4        jobTitle   b'varchar(20)'  YES        None       \n",
      "\n",
      "orderdetails\n",
      "             Field            Type Null Key Default Extra\n",
      "0      orderNumber          b'int'  YES        None      \n",
      "1      productCode  b'varchar(25)'  YES        None      \n",
      "2  quantityOrdered          b'int'  YES        None      \n",
      "3        priceEach        b'float'  YES        None      \n",
      "4  orderLineNumber          b'int'  YES        None       \n",
      "\n",
      "orders\n",
      "            Field            Type Null  Key Default Extra\n",
      "0     orderNumber          b'int'   NO  PRI    None      \n",
      "1       orderDate         b'date'  YES         None      \n",
      "2    requiredDate         b'date'  YES         None      \n",
      "3     shippedDate         b'date'  YES         None      \n",
      "4          status  b'varchar(10)'  YES         None      \n",
      "5        comments  b'varchar(20)'  YES         None      \n",
      "6  customerNumber          b'int'  YES         None       \n",
      "\n",
      "product_description\n",
      "             Field             Type Null Key Default Extra\n",
      "0      productName   b'varchar(70)'  YES        None      \n",
      "1  quantityinstock           b'int'  YES        None      \n",
      "2             msrp         b'float'  YES        None      \n",
      "3  textdescription  b'varchar(200)'  YES        None       \n",
      "\n",
      "productdetails\n",
      "             Field             Type Null Key Default Extra\n",
      "0      productLine   b'varchar(30)'  YES        None      \n",
      "1  textDescription  b'varchar(200)'  YES        None       \n",
      "\n",
      "products\n",
      "                Field             Type Null  Key Default Extra\n",
      "0         productCode   b'varchar(30)'   NO  PRI    None      \n",
      "1         productName   b'varchar(70)'  YES         None      \n",
      "2         productLine   b'varchar(30)'  YES         None      \n",
      "3        productScale   b'varchar(10)'  YES         None      \n",
      "4       productVendor   b'varchar(50)'  YES         None      \n",
      "5  productDescription  b'varchar(100)'  YES         None      \n",
      "6     quantityInstock           b'int'  YES         None      \n",
      "7            buyPrice         b'float'  YES         None      \n",
      "8                MSRP         b'float'  YES         None       \n",
      "\n"
     ]
    }
   ],
   "source": [
    "# for table_name in tables:\n",
    "#     output = pd.read_sql_query('DESCRIBE {}'.format(table_name), connection)\n",
    "#     print(table_name)\n",
    "#     print(output, '\\n')"
   ]
  },
  {
   "cell_type": "code",
   "execution_count": 21,
   "metadata": {},
   "outputs": [
    {
     "name": "stdout",
     "output_type": "stream",
     "text": [
      "Database created successfully\n"
     ]
    }
   ],
   "source": [
    "# create mysql_python\n",
    "def create_database(connection,query):\n",
    "    cursor = connection.cursor()\n",
    "    try:\n",
    "        cursor.execute(query)\n",
    "        print(\"Database created successfully\")\n",
    "    except Error as err:\n",
    "        print(f\"Error:'{err}'\")\n",
    "        \n",
    "create_database_query =\"create database mysql_python\"\n",
    "create_database(connection, create_database_query)"
   ]
  },
  {
   "cell_type": "code",
   "execution_count": 33,
   "metadata": {},
   "outputs": [],
   "source": [
    "# connect to db\n",
    "def create_db_connection(host_name, user_name, user_password, db_name):\n",
    "    connection = None\n",
    "    try:\n",
    "        connection = mysql.connector.connect(host= host_name,\n",
    "                                    user = user_name,\n",
    "                                    passwd = user_password,\n",
    "                                    database = db_name)\n",
    "        print(\"MySql database connection successful\")\n",
    "    except Error as err:\n",
    "        print(f\"Error:'{err}'\")\n",
    "    return connection"
   ]
  },
  {
   "cell_type": "code",
   "execution_count": 34,
   "metadata": {},
   "outputs": [],
   "source": [
    "# execute sql queries\n",
    "def execute_query(connection, query):\n",
    "    cursor=connection.cursor()\n",
    "    try:\n",
    "        cursor.execute(query)\n",
    "        connection.commit()\n",
    "        print(\"query was successful\")\n",
    "    except Error as err:\n",
    "        print(f\"Error:'{err}'\")"
   ]
  },
  {
   "cell_type": "code",
   "execution_count": 39,
   "metadata": {},
   "outputs": [
    {
     "name": "stdout",
     "output_type": "stream",
     "text": [
      "MySql database connection successful\n",
      "Error:'1050 (42S01): Table 'orders' already exists'\n"
     ]
    }
   ],
   "source": [
    "create_orders_table = \"\"\"\n",
    "create table orders(\n",
    "order_id int primary key,\n",
    "customer_name varchar(30) not null,\n",
    "product_name varchar(20) not null,\n",
    "date_ordered date,\n",
    "quantity int,\n",
    "unit_price float,\n",
    "phone_number varchar(20));\n",
    "\"\"\"\n",
    "\n",
    "# connect to the db\n",
    "\n",
    "connection = create_db_connection('localhost', 'root', pw, db)\n",
    "execute_query(connection,create_orders_table)"
   ]
  },
  {
   "cell_type": "code",
   "execution_count": 38,
   "metadata": {},
   "outputs": [
    {
     "name": "stdout",
     "output_type": "stream",
     "text": [
      "query was successful\n"
     ]
    }
   ],
   "source": [
    "# create_orders_table = \"\"\"\n",
    "# create table orders(\n",
    "# order_id int primary key,\n",
    "# customer_name varchar(30) not null,\n",
    "# product_name varchar(20) not null,\n",
    "# date_ordered date,\n",
    "# quantity int,\n",
    "# unit_price float,\n",
    "# phone_number varchar(20));\n",
    "# \"\"\"\n",
    "\n",
    "# connection1 = mysql.connector.connect(host='localhost',\n",
    "#                                     user = 'root',\n",
    "#                                     passwd = 'breitling',\n",
    "#                                     db = 'mysql_python')\n",
    "# execute_query(connection1,create_orders_table)"
   ]
  },
  {
   "cell_type": "code",
   "execution_count": 37,
   "metadata": {},
   "outputs": [
    {
     "data": {
      "text/plain": [
       "<mysql.connector.connection_cext.CMySQLConnection at 0x7f62c3a20f60>"
      ]
     },
     "execution_count": 37,
     "metadata": {},
     "output_type": "execute_result"
    }
   ],
   "source": [
    "# connection1"
   ]
  },
  {
   "cell_type": "code",
   "execution_count": 45,
   "metadata": {},
   "outputs": [
    {
     "name": "stdout",
     "output_type": "stream",
     "text": [
      "MySql database connection successful\n",
      "query was successful\n"
     ]
    }
   ],
   "source": [
    "# insert data\n",
    "data_orders = '''\n",
    "insert into orders values\n",
    "(101,'Steve','Laptop','2018-06-12',2,400,'34788201'),\n",
    "(102,'Joe','Books','2019-04-10',12,30,'47682014'),\n",
    "(103,'Mary','T-shirt','2018-01-15',20,100,'8820481'),\n",
    "(104,'Ben','SmartTV','2019-08-11',3,700,'77788201'),\n",
    "(105,'Anto','Phones','2018-06-18',7,600,'334788201'),\n",
    "(106,'Nancy','laptop','2019-04-17',3,400,'634788201');\n",
    "'''\n",
    "connection = create_db_connection('localhost', 'root', pw, db)\n",
    "execute_query(connection,data_orders)"
   ]
  },
  {
   "cell_type": "code",
   "execution_count": 59,
   "metadata": {},
   "outputs": [],
   "source": [
    "def read_query(connection, query):\n",
    "    cursor = connection.cursor()\n",
    "    result = None\n",
    "    try:\n",
    "        cursor.execute(query)\n",
    "        result = cursor.fetchall()\n",
    "        return result\n",
    "    except Error as err:\n",
    "        print(f\"Error:'{err}'\")"
   ]
  },
  {
   "cell_type": "code",
   "execution_count": 60,
   "metadata": {},
   "outputs": [
    {
     "name": "stdout",
     "output_type": "stream",
     "text": [
      "MySql database connection successful\n",
      "(101, 'Steve', 'Laptop', datetime.date(2018, 6, 12), 2, 400.0, '34788201')\n",
      "(102, 'Joe', 'Books', datetime.date(2019, 4, 10), 12, 30.0, '47682014')\n",
      "(103, 'Mary', 'T-shirt', datetime.date(2018, 1, 15), 20, 100.0, '8820481')\n",
      "(104, 'Ben', 'SmartTV', datetime.date(2019, 8, 11), 3, 700.0, '77788201')\n",
      "(105, 'Anto', 'Phones', datetime.date(2018, 6, 18), 7, 600.0, '334788201')\n",
      "(106, 'Nancy', 'laptop', datetime.date(2019, 4, 17), 3, 400.0, '634788201')\n"
     ]
    }
   ],
   "source": [
    "# using the select statement\n",
    "l1 = \"\"\"\n",
    "select * from orders;\n",
    "\"\"\"\n",
    "\n",
    "connection = create_db_connection('localhost', 'root', pw, db)\n",
    "results = read_query(connection, l1)\n",
    "for result in results:\n",
    "    print(result)"
   ]
  },
  {
   "cell_type": "code",
   "execution_count": 61,
   "metadata": {},
   "outputs": [
    {
     "name": "stdout",
     "output_type": "stream",
     "text": [
      "MySql database connection successful\n",
      "('Steve', '34788201')\n",
      "('Joe', '47682014')\n",
      "('Mary', '8820481')\n",
      "('Ben', '77788201')\n",
      "('Anto', '334788201')\n",
      "('Nancy', '634788201')\n"
     ]
    }
   ],
   "source": [
    " # display indiidual column\n",
    "l2 = \"\"\"\n",
    "select customer_name,phone_number from orders;\n",
    "\"\"\"\n",
    "\n",
    "connection = create_db_connection('localhost', 'root', pw, db)\n",
    "results = read_query(connection, l2)\n",
    "for result in results:\n",
    "    print(result)"
   ]
  },
  {
   "cell_type": "code",
   "execution_count": 62,
   "metadata": {},
   "outputs": [
    {
     "name": "stdout",
     "output_type": "stream",
     "text": [
      "MySql database connection successful\n",
      "(2018,)\n",
      "(2019,)\n",
      "(2018,)\n",
      "(2019,)\n",
      "(2018,)\n",
      "(2019,)\n"
     ]
    }
   ],
   "source": [
    "# display years\n",
    "l3 = \"\"\"\n",
    "select year(date_ordered) from orders;\n",
    "\"\"\"\n",
    "\n",
    "connection = create_db_connection('localhost', 'root', pw, db)\n",
    "results = read_query(connection, l3)\n",
    "for result in results:\n",
    "    print(result)"
   ]
  },
  {
   "cell_type": "code",
   "execution_count": 63,
   "metadata": {},
   "outputs": [
    {
     "name": "stdout",
     "output_type": "stream",
     "text": [
      "MySql database connection successful\n",
      "(2018,)\n",
      "(2019,)\n"
     ]
    }
   ],
   "source": [
    "# using the select statement\n",
    "l4 = \"\"\"\n",
    "select distinct year(date_ordered) from orders;\n",
    "\n",
    "\"\"\"\n",
    "\n",
    "connection = create_db_connection('localhost', 'root', pw, db)\n",
    "results = read_query(connection, l4)\n",
    "for result in results:\n",
    "    print(result)"
   ]
  },
  {
   "cell_type": "code",
   "execution_count": 64,
   "metadata": {},
   "outputs": [
    {
     "name": "stdout",
     "output_type": "stream",
     "text": [
      "MySql database connection successful\n",
      "(101, 'Steve', 'Laptop', datetime.date(2018, 6, 12), 2, 400.0, '34788201')\n",
      "(103, 'Mary', 'T-shirt', datetime.date(2018, 1, 15), 20, 100.0, '8820481')\n",
      "(105, 'Anto', 'Phones', datetime.date(2018, 6, 18), 7, 600.0, '334788201')\n"
     ]
    }
   ],
   "source": [
    "# using the where statement to get order timeline\n",
    "l5 = \"\"\"\n",
    "select * from orders where date_ordered < '2018-12-31';\n",
    "\n",
    "\"\"\"\n",
    "\n",
    "connection = create_db_connection('localhost', 'root', pw, db)\n",
    "results = read_query(connection, l5)\n",
    "for result in results:\n",
    "    print(result)"
   ]
  },
  {
   "cell_type": "code",
   "execution_count": 67,
   "metadata": {},
   "outputs": [
    {
     "name": "stdout",
     "output_type": "stream",
     "text": [
      "MySql database connection successful\n",
      "(102, 'Joe', 'Books', datetime.date(2019, 4, 10), 12, 30.0, '47682014')\n",
      "(104, 'Ben', 'SmartTV', datetime.date(2019, 8, 11), 3, 700.0, '77788201')\n",
      "(106, 'Nancy', 'laptop', datetime.date(2019, 4, 17), 3, 400.0, '634788201')\n"
     ]
    }
   ],
   "source": [
    "# using the where statement to get order\n",
    "l6 = \"\"\"\n",
    "select * from orders where date_ordered > '2018-12-31';\n",
    "\n",
    "\"\"\"\n",
    "\n",
    "connection = create_db_connection('localhost', 'root', pw, db)\n",
    "results = read_query(connection, l6)\n",
    "for result in results:\n",
    "    print(result)"
   ]
  },
  {
   "cell_type": "code",
   "execution_count": 69,
   "metadata": {},
   "outputs": [
    {
     "name": "stdout",
     "output_type": "stream",
     "text": [
      "MySql database connection successful\n",
      "(104, 'Ben', 'SmartTV', datetime.date(2019, 8, 11), 3, 700.0, '77788201')\n",
      "(105, 'Anto', 'Phones', datetime.date(2018, 6, 18), 7, 600.0, '334788201')\n",
      "(101, 'Steve', 'Laptop', datetime.date(2018, 6, 12), 2, 400.0, '34788201')\n",
      "(106, 'Nancy', 'laptop', datetime.date(2019, 4, 17), 3, 400.0, '634788201')\n",
      "(103, 'Mary', 'T-shirt', datetime.date(2018, 1, 15), 20, 100.0, '8820481')\n",
      "(102, 'Joe', 'Books', datetime.date(2019, 4, 10), 12, 30.0, '47682014')\n"
     ]
    }
   ],
   "source": [
    "# filtering the unit_price\n",
    "# by default its arranged in an ascending order\n",
    "l7 = \"\"\"\n",
    "select * from orders order by unit_price desc;\n",
    "\n",
    "\"\"\"\n",
    "\n",
    "connection = create_db_connection('localhost', 'root', pw, db)\n",
    "results = read_query(connection, l7)\n",
    "for result in results:\n",
    "    print(result)"
   ]
  },
  {
   "cell_type": "code",
   "execution_count": 70,
   "metadata": {},
   "outputs": [
    {
     "data": {
      "text/html": [
       "<div>\n",
       "<style scoped>\n",
       "    .dataframe tbody tr th:only-of-type {\n",
       "        vertical-align: middle;\n",
       "    }\n",
       "\n",
       "    .dataframe tbody tr th {\n",
       "        vertical-align: top;\n",
       "    }\n",
       "\n",
       "    .dataframe thead th {\n",
       "        text-align: right;\n",
       "    }\n",
       "</style>\n",
       "<table border=\"1\" class=\"dataframe\">\n",
       "  <thead>\n",
       "    <tr style=\"text-align: right;\">\n",
       "      <th></th>\n",
       "      <th>order_id</th>\n",
       "      <th>customer_name</th>\n",
       "      <th>product_name</th>\n",
       "      <th>date_ordered</th>\n",
       "      <th>quantity</th>\n",
       "      <th>unit_price</th>\n",
       "      <th>phone_number</th>\n",
       "    </tr>\n",
       "  </thead>\n",
       "  <tbody>\n",
       "    <tr>\n",
       "      <th>0</th>\n",
       "      <td>104</td>\n",
       "      <td>Ben</td>\n",
       "      <td>SmartTV</td>\n",
       "      <td>2019-08-11</td>\n",
       "      <td>3</td>\n",
       "      <td>700.0</td>\n",
       "      <td>77788201</td>\n",
       "    </tr>\n",
       "    <tr>\n",
       "      <th>1</th>\n",
       "      <td>105</td>\n",
       "      <td>Anto</td>\n",
       "      <td>Phones</td>\n",
       "      <td>2018-06-18</td>\n",
       "      <td>7</td>\n",
       "      <td>600.0</td>\n",
       "      <td>334788201</td>\n",
       "    </tr>\n",
       "    <tr>\n",
       "      <th>2</th>\n",
       "      <td>101</td>\n",
       "      <td>Steve</td>\n",
       "      <td>Laptop</td>\n",
       "      <td>2018-06-12</td>\n",
       "      <td>2</td>\n",
       "      <td>400.0</td>\n",
       "      <td>34788201</td>\n",
       "    </tr>\n",
       "    <tr>\n",
       "      <th>3</th>\n",
       "      <td>106</td>\n",
       "      <td>Nancy</td>\n",
       "      <td>laptop</td>\n",
       "      <td>2019-04-17</td>\n",
       "      <td>3</td>\n",
       "      <td>400.0</td>\n",
       "      <td>634788201</td>\n",
       "    </tr>\n",
       "    <tr>\n",
       "      <th>4</th>\n",
       "      <td>103</td>\n",
       "      <td>Mary</td>\n",
       "      <td>T-shirt</td>\n",
       "      <td>2018-01-15</td>\n",
       "      <td>20</td>\n",
       "      <td>100.0</td>\n",
       "      <td>8820481</td>\n",
       "    </tr>\n",
       "    <tr>\n",
       "      <th>5</th>\n",
       "      <td>102</td>\n",
       "      <td>Joe</td>\n",
       "      <td>Books</td>\n",
       "      <td>2019-04-10</td>\n",
       "      <td>12</td>\n",
       "      <td>30.0</td>\n",
       "      <td>47682014</td>\n",
       "    </tr>\n",
       "  </tbody>\n",
       "</table>\n",
       "</div>"
      ],
      "text/plain": [
       "   order_id customer_name product_name date_ordered  quantity  unit_price  \\\n",
       "0       104           Ben      SmartTV   2019-08-11         3       700.0   \n",
       "1       105          Anto       Phones   2018-06-18         7       600.0   \n",
       "2       101         Steve       Laptop   2018-06-12         2       400.0   \n",
       "3       106         Nancy       laptop   2019-04-17         3       400.0   \n",
       "4       103          Mary      T-shirt   2018-01-15        20       100.0   \n",
       "5       102           Joe        Books   2019-04-10        12        30.0   \n",
       "\n",
       "  phone_number  \n",
       "0     77788201  \n",
       "1    334788201  \n",
       "2     34788201  \n",
       "3    634788201  \n",
       "4      8820481  \n",
       "5     47682014  "
      ]
     },
     "metadata": {},
     "output_type": "display_data"
    }
   ],
   "source": [
    "# create a df from the table\n",
    "from_db = []\n",
    "\n",
    "for result in results:\n",
    "    result = list(result)\n",
    "    from_db.append(result)\n",
    "    \n",
    "columns = ['order_id','customer_name','product_name',\n",
    "           'date_ordered','quantity','unit_price','phone_number']\n",
    "df= pd.DataFrame(from_db, columns = columns)\n",
    "\n",
    "display(df)"
   ]
  },
  {
   "cell_type": "code",
   "execution_count": 71,
   "metadata": {},
   "outputs": [
    {
     "name": "stdout",
     "output_type": "stream",
     "text": [
      "MySql database connection successful\n",
      "query was successful\n"
     ]
    }
   ],
   "source": [
    "# update command\n",
    "update = '''\n",
    "update orders\n",
    "set unit_price = 45\n",
    "where order_id = 103\n",
    "'''\n",
    "\n",
    "connection = create_db_connection('localhost', 'root', pw, db)\n",
    "execute_query(connection,update)"
   ]
  },
  {
   "cell_type": "code",
   "execution_count": 78,
   "metadata": {},
   "outputs": [
    {
     "name": "stdout",
     "output_type": "stream",
     "text": [
      "MySql database connection successful\n",
      "(103, 'Mary', 'T-shirt', datetime.date(2018, 1, 15), 20, 45.0, '8820481')\n"
     ]
    }
   ],
   "source": [
    "# using the select statement\n",
    "l8 = \"\"\"\n",
    "select * from orders where order_id=103;\n",
    "\"\"\"\n",
    "\n",
    "connection = create_db_connection('localhost', 'root', pw, db)\n",
    "results = read_query(connection, l8)\n",
    "for result in results:\n",
    "    print(result)"
   ]
  },
  {
   "cell_type": "code",
   "execution_count": 74,
   "metadata": {},
   "outputs": [
    {
     "name": "stdout",
     "output_type": "stream",
     "text": [
      "MySql database connection successful\n",
      "query was successful\n"
     ]
    }
   ],
   "source": [
    "# delete command\n",
    "delete_order = '''\n",
    "delete from orders\n",
    "where order_id=105;\n",
    "'''\n",
    "\n",
    "connection = create_db_connection('localhost', 'root', pw, db)\n",
    "execute_query(connection,delete_order)"
   ]
  },
  {
   "cell_type": "code",
   "execution_count": 75,
   "metadata": {},
   "outputs": [
    {
     "name": "stdout",
     "output_type": "stream",
     "text": [
      "MySql database connection successful\n",
      "(101, 'Steve', 'Laptop', datetime.date(2018, 6, 12), 2, 400.0, '34788201')\n",
      "(102, 'Joe', 'Books', datetime.date(2019, 4, 10), 12, 30.0, '47682014')\n",
      "(103, 'Mary', 'T-shirt', datetime.date(2018, 1, 15), 20, 45.0, '8820481')\n",
      "(104, 'Ben', 'SmartTV', datetime.date(2019, 8, 11), 3, 700.0, '77788201')\n",
      "(106, 'Nancy', 'laptop', datetime.date(2019, 4, 17), 3, 400.0, '634788201')\n"
     ]
    }
   ],
   "source": [
    "# using the select statement\n",
    "l9 = \"\"\"\n",
    "select * from orders;\n",
    "\"\"\"\n",
    "\n",
    "connection = create_db_connection('localhost', 'root', pw, db)\n",
    "results = read_query(connection, l9)\n",
    "for result in results:\n",
    "    print(result)"
   ]
  },
  {
   "cell_type": "code",
   "execution_count": null,
   "metadata": {},
   "outputs": [],
   "source": []
  }
 ],
 "metadata": {
  "kernelspec": {
   "display_name": "Python 3",
   "language": "python",
   "name": "python3"
  },
  "language_info": {
   "codemirror_mode": {
    "name": "ipython",
    "version": 3
   },
   "file_extension": ".py",
   "mimetype": "text/x-python",
   "name": "python",
   "nbconvert_exporter": "python",
   "pygments_lexer": "ipython3",
   "version": "3.7.3"
  }
 },
 "nbformat": 4,
 "nbformat_minor": 2
}
